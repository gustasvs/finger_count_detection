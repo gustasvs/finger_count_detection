{
  "nbformat": 4,
  "nbformat_minor": 0,
  "metadata": {
    "colab": {
      "provenance": [],
      "authorship_tag": "ABX9TyNBYf0MV88TCxgFwDGa+vbG",
      "include_colab_link": true
    },
    "kernelspec": {
      "name": "python3",
      "display_name": "Python 3"
    },
    "language_info": {
      "name": "python"
    }
  },
  "cells": [
    {
      "cell_type": "markdown",
      "metadata": {
        "id": "view-in-github",
        "colab_type": "text"
      },
      "source": [
        "<a href=\"https://colab.research.google.com/github/gustasvs/finger_count_detection/blob/main/reformatted%20to%20run%20with%20google%20collab.ipynb\" target=\"_parent\"><img src=\"https://colab.research.google.com/assets/colab-badge.svg\" alt=\"Open In Colab\"/></a>"
      ]
    },
    {
      "cell_type": "code",
      "source": [
        "load_not_train = True\n",
        "\n",
        "# hparams\n",
        "BATCH_SIZE = 16\n",
        "EPOCHS = 50\n",
        "LR = 0.01\n",
        "\n",
        "# image params\n",
        "# image_size = 96 # [96, 128, 160, 192, 224]\n",
        "image_size = 42\n",
        "gray_scale = True"
      ],
      "metadata": {
        "id": "RX2h0zv6VgM0"
      },
      "execution_count": 35,
      "outputs": []
    },
    {
      "cell_type": "code",
      "execution_count": 49,
      "metadata": {
        "colab": {
          "base_uri": "https://localhost:8080/"
        },
        "id": "UtJjgmi9DHZ0",
        "outputId": "e393d9f0-486c-4627-b96e-61ec74ed2297"
      },
      "outputs": [
        {
          "output_type": "stream",
          "name": "stdout",
          "text": [
            "Requirement already satisfied: tensorflow_addons in /usr/local/lib/python3.10/dist-packages (0.23.0)\n",
            "Requirement already satisfied: packaging in /usr/local/lib/python3.10/dist-packages (from tensorflow_addons) (24.0)\n",
            "Requirement already satisfied: typeguard<3.0.0,>=2.7 in /usr/local/lib/python3.10/dist-packages (from tensorflow_addons) (2.13.3)\n"
          ]
        }
      ],
      "source": [
        "# imports\n",
        "import numpy as np\n",
        "import os\n",
        "import sys\n",
        "import random\n",
        "\n",
        "import cv2\n",
        "from google.colab.patches import cv2_imshow\n",
        "import matplotlib.pyplot as plt\n",
        "import tensorflow as tf\n",
        "from tensorflow import keras\n",
        "from keras.models import Sequential\n",
        "from keras.layers import Conv2D, Dense, Flatten, Dropout, BatchNormalization, MaxPooling2D, GlobalAveragePooling2D\n",
        "from keras.optimizers import Adam\n",
        "!pip install tensorflow_addons\n",
        "from tensorflow_addons.metrics import F1Score\n",
        "\n",
        "from keras.applications.mobilenet_v2 import MobileNetV2\n",
        "\n",
        "from IPython.display import display, Javascript\n",
        "from google.colab.output import eval_js\n",
        "from base64 import b64decode\n",
        "\n",
        "\n"
      ]
    },
    {
      "cell_type": "code",
      "source": [
        "\n",
        "from google.colab import drive\n",
        "from google.colab import files\n",
        "drive.mount('/content/drive')\n",
        "\n",
        "def flip_images(images):\n",
        "    flipped_images = []\n",
        "    for img in images:\n",
        "        flipped_images.append(img)\n",
        "        flipped_images.append(tf.image.flip_left_right(img))\n",
        "        flipped_images.append(tf.image.flip_up_down(img))\n",
        "        flipped_images.append(tf.image.flip_left_right(tf.image.flip_up_down(img)))\n",
        "    return flipped_images\n",
        "\n",
        "def scale_images(images):\n",
        "    scaled_images = []\n",
        "    scaling_factors = [1, 1.1, 1.2]\n",
        "    for img in images:\n",
        "        original_size = tf.shape(img)[:2]\n",
        "        for factor in scaling_factors:\n",
        "            new_size = tf.cast(tf.round(tf.cast(original_size, tf.float32) * factor), tf.int32)\n",
        "            scaled_img = tf.image.resize(img, new_size)\n",
        "            scaled_img = tf.image.resize_with_crop_or_pad(scaled_img, original_size[0], original_size[1])\n",
        "            scaled_images.append(scaled_img)\n",
        "    return scaled_images\n",
        "\n",
        "def color_jitter_images(images):\n",
        "    color_jittered_images = []\n",
        "    for img in images:\n",
        "        for _ in range(3):\n",
        "            color_jittered_img = tf.image.random_brightness(img, max_delta=0.2)\n",
        "            color_jittered_img = tf.image.random_contrast(color_jittered_img, lower=0.8, upper=1.2)\n",
        "            color_jittered_images.append(color_jittered_img)\n",
        "    return color_jittered_images\n",
        "\n",
        "\n",
        "def rotate_images(images):\n",
        "    rotated_images = []\n",
        "    for img in images:\n",
        "        rotated_images.append(img)\n",
        "        # rotated_images.append(tf.image.rot90(img, k=1))\n",
        "        # rotated_images.append(tf.image.rot90(img, k=3))\n",
        "    return rotated_images\n",
        "\n",
        "def preprocess_image(img, target_size=(700, 700), gray_scale=False, single=False):\n",
        "    original_shape = tf.cast(tf.shape(img)[:2], tf.float32)\n",
        "    min_edge = tf.reduce_min(original_shape)\n",
        "    # fix to counter rounding being unprecise\n",
        "    scale_factor = target_size[0] * 1.001 / min_edge\n",
        "    new_shape = tf.cast(tf.round(original_shape * scale_factor), tf.int32)\n",
        "    img = tf.image.resize(img, new_shape)\n",
        "    if gray_scale:\n",
        "        img = tf.image.rgb_to_grayscale(img)\n",
        "    img = img / 255.0\n",
        "\n",
        "    # handle case when we need to return single image\n",
        "    if single:\n",
        "        img = tf.image.resize_with_crop_or_pad(img, target_size[0], target_size[1])\n",
        "        return img\n",
        "\n",
        "    # step 1 crop images\n",
        "    cropped_images = []\n",
        "    shape = tf.shape(img)\n",
        "     # wider\n",
        "    if shape[0] < shape[1]:\n",
        "        for i in range(3):\n",
        "            start = (shape[1] - target_size[1]) // 2 * i\n",
        "            cropped_img = tf.image.crop_to_bounding_box(img, 0, start, target_size[0], target_size[1])\n",
        "            cropped_images.append(cropped_img)\n",
        "    # taller\n",
        "    else:\n",
        "        # Width of the image (height is greater than width)\n",
        "        width = shape[1]\n",
        "        square_size = width  # Since the square side length should be equal to the width\n",
        "\n",
        "        # Calculate the vertical center of the image\n",
        "        vertical_center = shape[0] // 2\n",
        "\n",
        "        # Start points for the three crops\n",
        "        start_points = [\n",
        "            max(0, vertical_center - square_size // 2),  # Center aligned\n",
        "            max(0, vertical_center - square_size),       # Center aligned with top touching center\n",
        "            min(shape[0] - square_size, vertical_center) # Center aligned with bottom touching center or at bottom\n",
        "        ]\n",
        "\n",
        "        for start in start_points:\n",
        "            cropped_img = tf.image.crop_to_bounding_box(img, start, 0, square_size, square_size)\n",
        "            cropped_images.append(cropped_img)\n",
        "\n",
        "    # take out random 1 from the cropped images\n",
        "    if len(cropped_images) > 2:\n",
        "        cropped_images.pop(random.randint(0, len(cropped_images) - 1))\n",
        "\n",
        "    preprocessed_images = scale_images(cropped_images)\n",
        "    preprocessed_images = flip_images(preprocessed_images)\n",
        "    preprocessed_images = color_jitter_images(preprocessed_images)\n",
        "    preprocessed_images = rotate_images(preprocessed_images)\n",
        "\n",
        "    return preprocessed_images\n",
        "\n",
        "\n",
        "import zipfile\n",
        "def preprocess_and_save_images(output_folder, target_size=(700, 700), gray_scale=False):\n",
        "    uploaded = files.upload()  # Allows users to upload a zip file\n",
        "\n",
        "    for filename in uploaded.keys():\n",
        "        if filename.endswith('.zip'):\n",
        "            with zipfile.ZipFile(filename, 'r') as zip_ref:\n",
        "                zip_ref.extractall('/content/')\n",
        "            os.remove(filename)\n",
        "\n",
        "    input_folder = '/content/'\n",
        "    if not os.path.exists(output_folder):\n",
        "        os.makedirs(output_folder)\n",
        "    elif len(os.listdir(output_folder)) > 0:\n",
        "        return len(os.listdir(output_folder))\n",
        "        for filename in os.listdir(output_folder):\n",
        "            os.remove(os.path.join(output_folder, filename))\n",
        "\n",
        "    filenames = [os.path.join(dp, f) for dp, dn, filenames in os.walk(input_folder) for f in filenames if f.lower().endswith(('.png', '.jpg', '.jpeg'))]\n",
        "\n",
        "    for filepath in filenames:\n",
        "        with open(filepath, 'rb') as f:\n",
        "            img = tf.image.decode_jpeg(f.read())\n",
        "            preprocessed_images = preprocess_image(img, target_size, gray_scale)\n",
        "            for i, preprocessed_img in enumerate(preprocessed_images):\n",
        "                if gray_scale:\n",
        "                    preprocessed_img = tf.image.grayscale_to_rgb(preprocessed_img)\n",
        "                output_filename = os.path.join(output_folder, f'{os.path.basename(filepath).split(\".\")[0]}_{i}.jpg')\n",
        "                with open(output_filename, 'wb') as f:\n",
        "                    f.write(tf.image.encode_jpeg(tf.cast(preprocessed_img * 255, tf.uint8)).numpy())\n",
        "\n",
        "    return len(os.listdir(output_folder))\n",
        "\n",
        "\n",
        "def preprocessed_image_generator(folder_path, batch_size=32):\n",
        "    while True:\n",
        "        image_files = os.listdir(folder_path)  # List all files in the folder\n",
        "\n",
        "\n",
        "        labels = {1: 0, 2: 0, 3: 0, 4: 0, 5: 0}\n",
        "        label_groups = {1: [], 2: [], 3: [], 4: [], 5: []}\n",
        "        for filename in image_files:\n",
        "            label = int(filename.split('_')[0])\n",
        "            labels[label] += 1\n",
        "            label_groups[label].append(filename)\n",
        "\n",
        "        min_label = min(labels.values())\n",
        "\n",
        "        # print(labels)\n",
        "\n",
        "        # Normalize all groups to the same size (min_label) by undersampling\n",
        "        normalized_files = []\n",
        "        for label, files in label_groups.items():\n",
        "            if len(files) > min_label:\n",
        "                files = random.sample(files, min_label)\n",
        "            normalized_files.extend(files)\n",
        "\n",
        "        # Shuffle to randomize the order for each epoch\n",
        "        random.shuffle(normalized_files)\n",
        "\n",
        "\n",
        "        batch_images = []\n",
        "        batch_labels = []\n",
        "\n",
        "        for filename in normalized_files:\n",
        "            image_path = os.path.join(folder_path, filename)\n",
        "            img = tf.io.read_file(image_path)\n",
        "            img = tf.image.decode_jpeg(img, channels=3)\n",
        "            img = tf.image.convert_image_dtype(img, tf.float32)  # Normalize the image to [0, 1]\n",
        "\n",
        "            # Extract label from filename or separate file\n",
        "            label = extract_label_from_filename(filename)\n",
        "\n",
        "            batch_images.append(img)\n",
        "            batch_labels.append(label)\n",
        "\n",
        "            # show iamge and print label\n",
        "            # print(label)\n",
        "            # plt.imshow(img)\n",
        "            # plt.show()\n",
        "\n",
        "            # Check if the batch is full\n",
        "            if len(batch_images) >= batch_size:\n",
        "                yield np.stack(batch_images, axis=0), np.stack(batch_labels, axis=0)\n",
        "                batch_images, batch_labels = [], []\n",
        "\n",
        "        # If there's any leftover data less than a full batch, yield it as well\n",
        "        if batch_images:\n",
        "            yield np.stack(batch_images, axis=0), np.stack(batch_labels, axis=0)\n",
        "\n",
        "def extract_label_from_filename(filename):\n",
        "    # example filename 3_92_2.jpg\n",
        "    label_part = filename.split('_')[0]\n",
        "    label = int(label_part)\n",
        "\n",
        "    one_hot_label = tf.one_hot(label - 1, depth=5)\n",
        "\n",
        "    return one_hot_label\n",
        "\n"
      ],
      "metadata": {
        "colab": {
          "base_uri": "https://localhost:8080/"
        },
        "id": "Xnw1PSljDQWP",
        "outputId": "68e80a53-0a7b-463b-c577-81236c4f8680"
      },
      "execution_count": 18,
      "outputs": [
        {
          "output_type": "stream",
          "name": "stdout",
          "text": [
            "Drive already mounted at /content/drive; to attempt to forcibly remount, call drive.mount(\"/content/drive\", force_remount=True).\n"
          ]
        }
      ]
    },
    {
      "cell_type": "code",
      "source": [
        "class MovingAverage:\n",
        "    def __init__(self, window_size=5):\n",
        "        self.window_size = window_size\n",
        "        self.predictions = []\n",
        "\n",
        "    def update(self, new_prediction):\n",
        "        if len(self.predictions) >= self.window_size:\n",
        "            self.predictions.pop(0)\n",
        "        self.predictions.append(new_prediction)\n",
        "\n",
        "    def get_average(self):\n",
        "        if not self.predictions:\n",
        "            return None\n",
        "        return np.mean(self.predictions, axis=0)\n",
        "\n",
        "\n",
        "def softmax(x):\n",
        "    res = []\n",
        "    # exponentionally scale each\n",
        "    for i in x:\n",
        "        res.append(i * i)\n",
        "    res_max = max(res)\n",
        "    for i in range(len(res)):\n",
        "        res[i] = res[i] / res_max\n",
        "    return res\n",
        "\n",
        "def get_frame():\n",
        "    js = Javascript('''\n",
        "    async function getFrame() {\n",
        "        const video = document.createElement('video');\n",
        "        video.style.display = 'none';\n",
        "        document.body.appendChild(video);\n",
        "\n",
        "        const stream = await navigator.mediaDevices.getUserMedia({ video: true });\n",
        "        video.srcObject = stream;\n",
        "        await video.play();\n",
        "\n",
        "        const canvas = document.createElement('canvas');\n",
        "        canvas.width = 640;\n",
        "        canvas.height = 480;\n",
        "        const context = canvas.getContext('2d');\n",
        "        context.drawImage(video, 0, 0, canvas.width, canvas.height);\n",
        "\n",
        "        stream.getTracks().forEach(track => track.stop());\n",
        "        video.remove();\n",
        "\n",
        "        return canvas.toDataURL('image/jpeg', 0.8);\n",
        "    }\n",
        "    ''')\n",
        "    display(js)\n",
        "    data = eval_js('getFrame()')\n",
        "    return data\n",
        "\n",
        "def data_uri_to_image(data_uri):\n",
        "    header, encoded = data_uri.split(',', 1)\n",
        "    data = b64decode(encoded)\n",
        "    img_array = np.frombuffer(data, dtype=np.uint8)\n",
        "    img = cv2.imdecode(img_array, cv2.IMREAD_COLOR)\n",
        "    return img\n",
        "\n",
        "def video_interface(model, image_size):\n",
        "    fig, ax = plt.subplots()\n",
        "    bars = ax.bar(range(1, 6), np.zeros(5), color='gray', width=0.5)\n",
        "    ax.set_ylim(0, 1)\n",
        "    ax.set_xticks(range(1, 6))\n",
        "    ax.set_xticklabels(range(1, 6))\n",
        "    ax.set_yticklabels([])\n",
        "    ax.set_yticks([])\n",
        "    plt.show(block=False)\n",
        "\n",
        "    prediction_smoothing = MovingAverage(window_size=15)\n",
        "\n",
        "    try:\n",
        "        while True:\n",
        "            data = get_frame()\n",
        "            frame = data_uri_to_image(data)\n",
        "\n",
        "            processed_frame = preprocess_image(frame, (image_size, image_size), gray_scale=False, single=True)\n",
        "            prediction = model.predict(np.expand_dims(processed_frame, axis=0), verbose=0)[0]\n",
        "\n",
        "            print(prediction)\n",
        "            prediction = softmax(prediction)\n",
        "\n",
        "            prediction_smoothing.update(prediction)\n",
        "            prediction = prediction_smoothing.get_average()\n",
        "\n",
        "            highest_pred_index = np.argmax(prediction)\n",
        "            for i, (bar, pred) in enumerate(zip(bars, prediction)):\n",
        "                bar.set_height(pred)\n",
        "                bar.set_color('red' if i == highest_pred_index else 'black')\n",
        "\n",
        "            fig.canvas.draw()\n",
        "            fig.canvas.flush_events()\n",
        "\n",
        "            if isinstance(processed_frame, tf.Tensor):\n",
        "                processed_frame = processed_frame.numpy()  # Convert to NumPy array\n",
        "            if processed_frame.dtype != np.uint8:\n",
        "                processed_frame = (processed_frame * 255).astype(np.uint8)  # Adjust data type and range\n",
        "\n",
        "            # cv2_imshow(processed_frame)\n",
        "\n",
        "    except Exception as e:\n",
        "        print(e)\n",
        "    finally:\n",
        "        plt.close()"
      ],
      "metadata": {
        "id": "VLJ-J1EoUZpA"
      },
      "execution_count": 53,
      "outputs": []
    },
    {
      "cell_type": "code",
      "source": [
        "def load_model():\n",
        "\n",
        "    os.system(f'wget https://github.com/gustasvs/finger_count_detection/raw/main/model.h5 -O model.h5')\n",
        "\n",
        "    model = tf.keras.models.load_model('model.h5', custom_objects={'F1Score': F1Score(num_classes=5, average='macro')})\n",
        "\n",
        "    return model\n",
        "\n",
        "def create_model(input_shape):\n",
        "\n",
        "    # base_pretrained_model = MobileNetV2(input_shape=input_shape, include_top=False, weights='imagenet')\n",
        "    # base_pretrained_model.trainable = False\n",
        "\n",
        "    model = Sequential([\n",
        "        # base_pretrained_model,\n",
        "        # GlobalAveragePooling2D(),\n",
        "\n",
        "        # conv layers\n",
        "        Conv2D(32, kernel_size=(3, 3), activation='relu', input_shape=input_shape),\n",
        "        BatchNormalization(),\n",
        "        Conv2D(64, kernel_size=(3, 3), activation='relu'),\n",
        "        BatchNormalization(),\n",
        "        Conv2D(128, kernel_size=(3, 3), activation='relu'),\n",
        "        BatchNormalization(),\n",
        "        MaxPooling2D(pool_size=(2, 2)),\n",
        "\n",
        "        # flatten for dense layers\n",
        "        Flatten(),\n",
        "        Dropout(0.5),\n",
        "\n",
        "        # dense layers for classification\n",
        "        Dense(256, activation='relu'),\n",
        "        Dropout(0.4),\n",
        "        Dense(128, activation='relu'),\n",
        "        Dropout(0.4),\n",
        "        Dense(5, activation='softmax')\n",
        "    ])\n",
        "\n",
        "    learning_rate_decay = tf.keras.optimizers.schedules.ExponentialDecay(\n",
        "        initial_learning_rate=LR,\n",
        "        decay_steps=10000,\n",
        "        decay_rate=0.96,\n",
        "        staircase=True\n",
        "    )\n",
        "\n",
        "    model.compile(\n",
        "                optimizer=Adam(learning_rate=LR, beta_1=0.9, beta_2=0.98, epsilon=1e-9),\n",
        "                loss='categorical_crossentropy',\n",
        "                metrics=['accuracy', F1Score(num_classes=5, average='macro')])\n",
        "\n",
        "    return model"
      ],
      "metadata": {
        "id": "_hXBJoBKDRz0"
      },
      "execution_count": 34,
      "outputs": []
    },
    {
      "cell_type": "code",
      "source": [
        "\n",
        "# print-options for less clutter\n",
        "np.set_printoptions(suppress=True, precision=2)\n",
        "os.environ['TF_CPP_MIN_LOG_LEVEL'] = '3'\n",
        "tf.get_logger().setLevel('ERROR')\n",
        "\n",
        "\n",
        "# load_not_train = True\n",
        "\n",
        "if load_not_train:\n",
        "    model = load_model()\n",
        "    print(\"model loaded\")\n",
        "    video_interface(model, 224) # image_size\n",
        "    sys.exit()\n",
        "\n",
        "\n",
        "input_shape = (image_size, image_size, 3 if gray_scale else 3)\n",
        "\n",
        "# Load datasets\n",
        "prprocessed_train_len = preprocess_and_save_images('rokas_train_preprocessed', target_size=(image_size, image_size), gray_scale=gray_scale)\n",
        "steps_per_epoch = prprocessed_train_len // BATCH_SIZE\n",
        "print(\"Preprocessed train images:\", prprocessed_train_len)\n",
        "\n",
        "processed_validation_len = preprocess_and_save_images('rokas_validate_preprocessed', target_size=(image_size, image_size), gray_scale=gray_scale)\n",
        "validation_steps = processed_validation_len // BATCH_SIZE\n",
        "print(\"Preprocessed validation images:\", processed_validation_len)\n",
        "\n",
        "\n",
        "\n"
      ],
      "metadata": {
        "colab": {
          "base_uri": "https://localhost:8080/",
          "height": 1000
        },
        "id": "pr2McWUHFVLQ",
        "outputId": "13be52d5-b13a-46cc-865d-6a1ac2f2df17"
      },
      "execution_count": 54,
      "outputs": [
        {
          "output_type": "stream",
          "name": "stdout",
          "text": [
            "model loaded\n"
          ]
        },
        {
          "output_type": "display_data",
          "data": {
            "text/plain": [
              "<Figure size 640x480 with 1 Axes>"
            ],
            "image/png": "[encoded data removed]"
          },
          "metadata": {}
        },
        {
          "output_type": "display_data",
          "data": {
            "text/plain": [
              "<IPython.core.display.Javascript object>"
            ],
            "application/javascript": [
              "\n",
              "    async function getFrame() {\n",
              "        const video = document.createElement('video');\n",
              "        video.style.display = 'none';\n",
              "        document.body.appendChild(video);\n",
              "\n",
              "        const stream = await navigator.mediaDevices.getUserMedia({ video: true });\n",
              "        video.srcObject = stream;\n",
              "        await video.play();\n",
              "\n",
              "        const canvas = document.createElement('canvas');\n",
              "        canvas.width = 640;\n",
              "        canvas.height = 480;\n",
              "        const context = canvas.getContext('2d');\n",
              "        context.drawImage(video, 0, 0, canvas.width, canvas.height);\n",
              "        \n",
              "        stream.getTracks().forEach(track => track.stop());\n",
              "        video.remove();\n",
              "        \n",
              "        return canvas.toDataURL('image/jpeg', 0.8);\n",
              "    }\n",
              "    "
            ]
          },
          "metadata": {}
        },
        {
          "output_type": "stream",
          "name": "stdout",
          "text": [
            "[0.78 0.22 0.   0.   0.  ]\n"
          ]
        },
        {
          "output_type": "display_data",
          "data": {
            "text/plain": [
              "<IPython.core.display.Javascript object>"
            ],
            "application/javascript": [
              "\n",
              "    async function getFrame() {\n",
              "        const video = document.createElement('video');\n",
              "        video.style.display = 'none';\n",
              "        document.body.appendChild(video);\n",
              "\n",
              "        const stream = await navigator.mediaDevices.getUserMedia({ video: true });\n",
              "        video.srcObject = stream;\n",
              "        await video.play();\n",
              "\n",
              "        const canvas = document.createElement('canvas');\n",
              "        canvas.width = 640;\n",
              "        canvas.height = 480;\n",
              "        const context = canvas.getContext('2d');\n",
              "        context.drawImage(video, 0, 0, canvas.width, canvas.height);\n",
              "        \n",
              "        stream.getTracks().forEach(track => track.stop());\n",
              "        video.remove();\n",
              "        \n",
              "        return canvas.toDataURL('image/jpeg', 0.8);\n",
              "    }\n",
              "    "
            ]
          },
          "metadata": {}
        },
        {
          "output_type": "stream",
          "name": "stdout",
          "text": [
            "[0.77 0.23 0.   0.   0.  ]\n"
          ]
        },
        {
          "output_type": "display_data",
          "data": {
            "text/plain": [
              "<IPython.core.display.Javascript object>"
            ],
            "application/javascript": [
              "\n",
              "    async function getFrame() {\n",
              "        const video = document.createElement('video');\n",
              "        video.style.display = 'none';\n",
              "        document.body.appendChild(video);\n",
              "\n",
              "        const stream = await navigator.mediaDevices.getUserMedia({ video: true });\n",
              "        video.srcObject = stream;\n",
              "        await video.play();\n",
              "\n",
              "        const canvas = document.createElement('canvas');\n",
              "        canvas.width = 640;\n",
              "        canvas.height = 480;\n",
              "        const context = canvas.getContext('2d');\n",
              "        context.drawImage(video, 0, 0, canvas.width, canvas.height);\n",
              "        \n",
              "        stream.getTracks().forEach(track => track.stop());\n",
              "        video.remove();\n",
              "        \n",
              "        return canvas.toDataURL('image/jpeg', 0.8);\n",
              "    }\n",
              "    "
            ]
          },
          "metadata": {}
        },
        {
          "output_type": "stream",
          "name": "stdout",
          "text": [
            "[0.82 0.18 0.   0.   0.  ]\n"
          ]
        },
        {
          "output_type": "display_data",
          "data": {
            "text/plain": [
              "<IPython.core.display.Javascript object>"
            ],
            "application/javascript": [
              "\n",
              "    async function getFrame() {\n",
              "        const video = document.createElement('video');\n",
              "        video.style.display = 'none';\n",
              "        document.body.appendChild(video);\n",
              "\n",
              "        const stream = await navigator.mediaDevices.getUserMedia({ video: true });\n",
              "        video.srcObject = stream;\n",
              "        await video.play();\n",
              "\n",
              "        const canvas = document.createElement('canvas');\n",
              "        canvas.width = 640;\n",
              "        canvas.height = 480;\n",
              "        const context = canvas.getContext('2d');\n",
              "        context.drawImage(video, 0, 0, canvas.width, canvas.height);\n",
              "        \n",
              "        stream.getTracks().forEach(track => track.stop());\n",
              "        video.remove();\n",
              "        \n",
              "        return canvas.toDataURL('image/jpeg', 0.8);\n",
              "    }\n",
              "    "
            ]
          },
          "metadata": {}
        },
        {
          "output_type": "stream",
          "name": "stdout",
          "text": [
            "[0.01 0.07 0.26 0.17 0.48]\n"
          ]
        },
        {
          "output_type": "display_data",
          "data": {
            "text/plain": [
              "<IPython.core.display.Javascript object>"
            ],
            "application/javascript": [
              "\n",
              "    async function getFrame() {\n",
              "        const video = document.createElement('video');\n",
              "        video.style.display = 'none';\n",
              "        document.body.appendChild(video);\n",
              "\n",
              "        const stream = await navigator.mediaDevices.getUserMedia({ video: true });\n",
              "        video.srcObject = stream;\n",
              "        await video.play();\n",
              "\n",
              "        const canvas = document.createElement('canvas');\n",
              "        canvas.width = 640;\n",
              "        canvas.height = 480;\n",
              "        const context = canvas.getContext('2d');\n",
              "        context.drawImage(video, 0, 0, canvas.width, canvas.height);\n",
              "        \n",
              "        stream.getTracks().forEach(track => track.stop());\n",
              "        video.remove();\n",
              "        \n",
              "        return canvas.toDataURL('image/jpeg', 0.8);\n",
              "    }\n",
              "    "
            ]
          },
          "metadata": {}
        },
        {
          "output_type": "stream",
          "name": "stdout",
          "text": [
            "[0.75 0.24 0.   0.   0.  ]\n"
          ]
        },
        {
          "output_type": "display_data",
          "data": {
            "text/plain": [
              "<IPython.core.display.Javascript object>"
            ],
            "application/javascript": [
              "\n",
              "    async function getFrame() {\n",
              "        const video = document.createElement('video');\n",
              "        video.style.display = 'none';\n",
              "        document.body.appendChild(video);\n",
              "\n",
              "        const stream = await navigator.mediaDevices.getUserMedia({ video: true });\n",
              "        video.srcObject = stream;\n",
              "        await video.play();\n",
              "\n",
              "        const canvas = document.createElement('canvas');\n",
              "        canvas.width = 640;\n",
              "        canvas.height = 480;\n",
              "        const context = canvas.getContext('2d');\n",
              "        context.drawImage(video, 0, 0, canvas.width, canvas.height);\n",
              "        \n",
              "        stream.getTracks().forEach(track => track.stop());\n",
              "        video.remove();\n",
              "        \n",
              "        return canvas.toDataURL('image/jpeg', 0.8);\n",
              "    }\n",
              "    "
            ]
          },
          "metadata": {}
        },
        {
          "output_type": "stream",
          "name": "stdout",
          "text": [
            "[0.98 0.02 0.   0.   0.  ]\n"
          ]
        },
        {
          "output_type": "display_data",
          "data": {
            "text/plain": [
              "<IPython.core.display.Javascript object>"
            ],
            "application/javascript": [
              "\n",
              "    async function getFrame() {\n",
              "        const video = document.createElement('video');\n",
              "        video.style.display = 'none';\n",
              "        document.body.appendChild(video);\n",
              "\n",
              "        const stream = await navigator.mediaDevices.getUserMedia({ video: true });\n",
              "        video.srcObject = stream;\n",
              "        await video.play();\n",
              "\n",
              "        const canvas = document.createElement('canvas');\n",
              "        canvas.width = 640;\n",
              "        canvas.height = 480;\n",
              "        const context = canvas.getContext('2d');\n",
              "        context.drawImage(video, 0, 0, canvas.width, canvas.height);\n",
              "        \n",
              "        stream.getTracks().forEach(track => track.stop());\n",
              "        video.remove();\n",
              "        \n",
              "        return canvas.toDataURL('image/jpeg', 0.8);\n",
              "    }\n",
              "    "
            ]
          },
          "metadata": {}
        },
        {
          "output_type": "stream",
          "name": "stdout",
          "text": [
            "[0.   0.   0.14 0.25 0.61]\n"
          ]
        },
        {
          "output_type": "display_data",
          "data": {
            "text/plain": [
              "<IPython.core.display.Javascript object>"
            ],
            "application/javascript": [
              "\n",
              "    async function getFrame() {\n",
              "        const video = document.createElement('video');\n",
              "        video.style.display = 'none';\n",
              "        document.body.appendChild(video);\n",
              "\n",
              "        const stream = await navigator.mediaDevices.getUserMedia({ video: true });\n",
              "        video.srcObject = stream;\n",
              "        await video.play();\n",
              "\n",
              "        const canvas = document.createElement('canvas');\n",
              "        canvas.width = 640;\n",
              "        canvas.height = 480;\n",
              "        const context = canvas.getContext('2d');\n",
              "        context.drawImage(video, 0, 0, canvas.width, canvas.height);\n",
              "        \n",
              "        stream.getTracks().forEach(track => track.stop());\n",
              "        video.remove();\n",
              "        \n",
              "        return canvas.toDataURL('image/jpeg', 0.8);\n",
              "    }\n",
              "    "
            ]
          },
          "metadata": {}
        },
        {
          "output_type": "stream",
          "name": "stdout",
          "text": [
            "[0.7  0.29 0.01 0.   0.01]\n"
          ]
        },
        {
          "output_type": "display_data",
          "data": {
            "text/plain": [
              "<IPython.core.display.Javascript object>"
            ],
            "application/javascript": [
              "\n",
              "    async function getFrame() {\n",
              "        const video = document.createElement('video');\n",
              "        video.style.display = 'none';\n",
              "        document.body.appendChild(video);\n",
              "\n",
              "        const stream = await navigator.mediaDevices.getUserMedia({ video: true });\n",
              "        video.srcObject = stream;\n",
              "        await video.play();\n",
              "\n",
              "        const canvas = document.createElement('canvas');\n",
              "        canvas.width = 640;\n",
              "        canvas.height = 480;\n",
              "        const context = canvas.getContext('2d');\n",
              "        context.drawImage(video, 0, 0, canvas.width, canvas.height);\n",
              "        \n",
              "        stream.getTracks().forEach(track => track.stop());\n",
              "        video.remove();\n",
              "        \n",
              "        return canvas.toDataURL('image/jpeg', 0.8);\n",
              "    }\n",
              "    "
            ]
          },
          "metadata": {}
        },
        {
          "output_type": "stream",
          "name": "stdout",
          "text": [
            "[0.09 0.24 0.25 0.08 0.35]\n"
          ]
        },
        {
          "output_type": "display_data",
          "data": {
            "text/plain": [
              "<IPython.core.display.Javascript object>"
            ],
            "application/javascript": [
              "\n",
              "    async function getFrame() {\n",
              "        const video = document.createElement('video');\n",
              "        video.style.display = 'none';\n",
              "        document.body.appendChild(video);\n",
              "\n",
              "        const stream = await navigator.mediaDevices.getUserMedia({ video: true });\n",
              "        video.srcObject = stream;\n",
              "        await video.play();\n",
              "\n",
              "        const canvas = document.createElement('canvas');\n",
              "        canvas.width = 640;\n",
              "        canvas.height = 480;\n",
              "        const context = canvas.getContext('2d');\n",
              "        context.drawImage(video, 0, 0, canvas.width, canvas.height);\n",
              "        \n",
              "        stream.getTracks().forEach(track => track.stop());\n",
              "        video.remove();\n",
              "        \n",
              "        return canvas.toDataURL('image/jpeg', 0.8);\n",
              "    }\n",
              "    "
            ]
          },
          "metadata": {}
        },
        {
          "output_type": "stream",
          "name": "stdout",
          "text": [
            "[0.   0.   0.15 0.44 0.42]\n"
          ]
        },
        {
          "output_type": "display_data",
          "data": {
            "text/plain": [
              "<IPython.core.display.Javascript object>"
            ],
            "application/javascript": [
              "\n",
              "    async function getFrame() {\n",
              "        const video = document.createElement('video');\n",
              "        video.style.display = 'none';\n",
              "        document.body.appendChild(video);\n",
              "\n",
              "        const stream = await navigator.mediaDevices.getUserMedia({ video: true });\n",
              "        video.srcObject = stream;\n",
              "        await video.play();\n",
              "\n",
              "        const canvas = document.createElement('canvas');\n",
              "        canvas.width = 640;\n",
              "        canvas.height = 480;\n",
              "        const context = canvas.getContext('2d');\n",
              "        context.drawImage(video, 0, 0, canvas.width, canvas.height);\n",
              "        \n",
              "        stream.getTracks().forEach(track => track.stop());\n",
              "        video.remove();\n",
              "        \n",
              "        return canvas.toDataURL('image/jpeg', 0.8);\n",
              "    }\n",
              "    "
            ]
          },
          "metadata": {}
        },
        {
          "output_type": "stream",
          "name": "stdout",
          "text": [
            "[0.   0.   0.12 0.44 0.44]\n"
          ]
        },
        {
          "output_type": "display_data",
          "data": {
            "text/plain": [
              "<IPython.core.display.Javascript object>"
            ],
            "application/javascript": [
              "\n",
              "    async function getFrame() {\n",
              "        const video = document.createElement('video');\n",
              "        video.style.display = 'none';\n",
              "        document.body.appendChild(video);\n",
              "\n",
              "        const stream = await navigator.mediaDevices.getUserMedia({ video: true });\n",
              "        video.srcObject = stream;\n",
              "        await video.play();\n",
              "\n",
              "        const canvas = document.createElement('canvas');\n",
              "        canvas.width = 640;\n",
              "        canvas.height = 480;\n",
              "        const context = canvas.getContext('2d');\n",
              "        context.drawImage(video, 0, 0, canvas.width, canvas.height);\n",
              "        \n",
              "        stream.getTracks().forEach(track => track.stop());\n",
              "        video.remove();\n",
              "        \n",
              "        return canvas.toDataURL('image/jpeg', 0.8);\n",
              "    }\n",
              "    "
            ]
          },
          "metadata": {}
        },
        {
          "output_type": "stream",
          "name": "stdout",
          "text": [
            "[0.74 0.25 0.   0.   0.  ]\n"
          ]
        },
        {
          "output_type": "display_data",
          "data": {
            "text/plain": [
              "<IPython.core.display.Javascript object>"
            ],
            "application/javascript": [
              "\n",
              "    async function getFrame() {\n",
              "        const video = document.createElement('video');\n",
              "        video.style.display = 'none';\n",
              "        document.body.appendChild(video);\n",
              "\n",
              "        const stream = await navigator.mediaDevices.getUserMedia({ video: true });\n",
              "        video.srcObject = stream;\n",
              "        await video.play();\n",
              "\n",
              "        const canvas = document.createElement('canvas');\n",
              "        canvas.width = 640;\n",
              "        canvas.height = 480;\n",
              "        const context = canvas.getContext('2d');\n",
              "        context.drawImage(video, 0, 0, canvas.width, canvas.height);\n",
              "        \n",
              "        stream.getTracks().forEach(track => track.stop());\n",
              "        video.remove();\n",
              "        \n",
              "        return canvas.toDataURL('image/jpeg', 0.8);\n",
              "    }\n",
              "    "
            ]
          },
          "metadata": {}
        },
        {
          "output_type": "error",
          "ename": "KeyboardInterrupt",
          "evalue": "",
          "traceback": [
            "\u001b[0;31m---------------------------------------------------------------------------\u001b[0m",
            "\u001b[0;31mKeyboardInterrupt\u001b[0m                         Traceback (most recent call last)",
            "\u001b[0;32m<ipython-input-54-5f65e0bc08df>\u001b[0m in \u001b[0;36m<cell line: 9>\u001b[0;34m()\u001b[0m\n\u001b[1;32m     10\u001b[0m     \u001b[0mmodel\u001b[0m \u001b[0;34m=\u001b[0m \u001b[0mload_model\u001b[0m\u001b[0;34m(\u001b[0m\u001b[0;34m)\u001b[0m\u001b[0;34m\u001b[0m\u001b[0;34m\u001b[0m\u001b[0m\n\u001b[1;32m     11\u001b[0m     \u001b[0mprint\u001b[0m\u001b[0;34m(\u001b[0m\u001b[0;34m\"model loaded\"\u001b[0m\u001b[0;34m)\u001b[0m\u001b[0;34m\u001b[0m\u001b[0;34m\u001b[0m\u001b[0m\n\u001b[0;32m---> 12\u001b[0;31m     \u001b[0mvideo_interface\u001b[0m\u001b[0;34m(\u001b[0m\u001b[0mmodel\u001b[0m\u001b[0;34m,\u001b[0m \u001b[0;36m224\u001b[0m\u001b[0;34m)\u001b[0m \u001b[0;31m# image_size\u001b[0m\u001b[0;34m\u001b[0m\u001b[0;34m\u001b[0m\u001b[0m\n\u001b[0m\u001b[1;32m     13\u001b[0m     \u001b[0msys\u001b[0m\u001b[0;34m.\u001b[0m\u001b[0mexit\u001b[0m\u001b[0;34m(\u001b[0m\u001b[0;34m)\u001b[0m\u001b[0;34m\u001b[0m\u001b[0;34m\u001b[0m\u001b[0m\n\u001b[1;32m     14\u001b[0m \u001b[0;34m\u001b[0m\u001b[0m\n",
            "\u001b[0;32m<ipython-input-53-350e5a31a17e>\u001b[0m in \u001b[0;36mvideo_interface\u001b[0;34m(model, image_size)\u001b[0m\n\u001b[1;32m     73\u001b[0m     \u001b[0;32mtry\u001b[0m\u001b[0;34m:\u001b[0m\u001b[0;34m\u001b[0m\u001b[0;34m\u001b[0m\u001b[0m\n\u001b[1;32m     74\u001b[0m         \u001b[0;32mwhile\u001b[0m \u001b[0;32mTrue\u001b[0m\u001b[0;34m:\u001b[0m\u001b[0;34m\u001b[0m\u001b[0;34m\u001b[0m\u001b[0m\n\u001b[0;32m---> 75\u001b[0;31m             \u001b[0mdata\u001b[0m \u001b[0;34m=\u001b[0m \u001b[0mget_frame\u001b[0m\u001b[0;34m(\u001b[0m\u001b[0;34m)\u001b[0m\u001b[0;34m\u001b[0m\u001b[0;34m\u001b[0m\u001b[0m\n\u001b[0m\u001b[1;32m     76\u001b[0m             \u001b[0mframe\u001b[0m \u001b[0;34m=\u001b[0m \u001b[0mdata_uri_to_image\u001b[0m\u001b[0;34m(\u001b[0m\u001b[0mdata\u001b[0m\u001b[0;34m)\u001b[0m\u001b[0;34m\u001b[0m\u001b[0;34m\u001b[0m\u001b[0m\n\u001b[1;32m     77\u001b[0m \u001b[0;34m\u001b[0m\u001b[0m\n",
            "\u001b[0;32m<ipython-input-53-350e5a31a17e>\u001b[0m in \u001b[0;36mget_frame\u001b[0;34m()\u001b[0m\n\u001b[1;32m     49\u001b[0m     ''')\n\u001b[1;32m     50\u001b[0m     \u001b[0mdisplay\u001b[0m\u001b[0;34m(\u001b[0m\u001b[0mjs\u001b[0m\u001b[0;34m)\u001b[0m\u001b[0;34m\u001b[0m\u001b[0;34m\u001b[0m\u001b[0m\n\u001b[0;32m---> 51\u001b[0;31m     \u001b[0mdata\u001b[0m \u001b[0;34m=\u001b[0m \u001b[0meval_js\u001b[0m\u001b[0;34m(\u001b[0m\u001b[0;34m'getFrame()'\u001b[0m\u001b[0;34m)\u001b[0m\u001b[0;34m\u001b[0m\u001b[0;34m\u001b[0m\u001b[0m\n\u001b[0m\u001b[1;32m     52\u001b[0m     \u001b[0;32mreturn\u001b[0m \u001b[0mdata\u001b[0m\u001b[0;34m\u001b[0m\u001b[0;34m\u001b[0m\u001b[0m\n\u001b[1;32m     53\u001b[0m \u001b[0;34m\u001b[0m\u001b[0m\n",
            "\u001b[0;32m/usr/local/lib/python3.10/dist-packages/google/colab/output/_js.py\u001b[0m in \u001b[0;36meval_js\u001b[0;34m(script, ignore_result, timeout_sec)\u001b[0m\n\u001b[1;32m     38\u001b[0m   \u001b[0;32mif\u001b[0m \u001b[0mignore_result\u001b[0m\u001b[0;34m:\u001b[0m\u001b[0;34m\u001b[0m\u001b[0;34m\u001b[0m\u001b[0m\n\u001b[1;32m     39\u001b[0m     \u001b[0;32mreturn\u001b[0m\u001b[0;34m\u001b[0m\u001b[0;34m\u001b[0m\u001b[0m\n\u001b[0;32m---> 40\u001b[0;31m   \u001b[0;32mreturn\u001b[0m \u001b[0m_message\u001b[0m\u001b[0;34m.\u001b[0m\u001b[0mread_reply_from_input\u001b[0m\u001b[0;34m(\u001b[0m\u001b[0mrequest_id\u001b[0m\u001b[0;34m,\u001b[0m \u001b[0mtimeout_sec\u001b[0m\u001b[0;34m)\u001b[0m\u001b[0;34m\u001b[0m\u001b[0;34m\u001b[0m\u001b[0m\n\u001b[0m\u001b[1;32m     41\u001b[0m \u001b[0;34m\u001b[0m\u001b[0m\n\u001b[1;32m     42\u001b[0m \u001b[0;34m\u001b[0m\u001b[0m\n",
            "\u001b[0;32m/usr/local/lib/python3.10/dist-packages/google/colab/_message.py\u001b[0m in \u001b[0;36mread_reply_from_input\u001b[0;34m(message_id, timeout_sec)\u001b[0m\n\u001b[1;32m     94\u001b[0m     \u001b[0mreply\u001b[0m \u001b[0;34m=\u001b[0m \u001b[0m_read_next_input_message\u001b[0m\u001b[0;34m(\u001b[0m\u001b[0;34m)\u001b[0m\u001b[0;34m\u001b[0m\u001b[0;34m\u001b[0m\u001b[0m\n\u001b[1;32m     95\u001b[0m     \u001b[0;32mif\u001b[0m \u001b[0mreply\u001b[0m \u001b[0;34m==\u001b[0m \u001b[0m_NOT_READY\u001b[0m \u001b[0;32mor\u001b[0m \u001b[0;32mnot\u001b[0m \u001b[0misinstance\u001b[0m\u001b[0;34m(\u001b[0m\u001b[0mreply\u001b[0m\u001b[0;34m,\u001b[0m \u001b[0mdict\u001b[0m\u001b[0;34m)\u001b[0m\u001b[0;34m:\u001b[0m\u001b[0;34m\u001b[0m\u001b[0;34m\u001b[0m\u001b[0m\n\u001b[0;32m---> 96\u001b[0;31m       \u001b[0mtime\u001b[0m\u001b[0;34m.\u001b[0m\u001b[0msleep\u001b[0m\u001b[0;34m(\u001b[0m\u001b[0;36m0.025\u001b[0m\u001b[0;34m)\u001b[0m\u001b[0;34m\u001b[0m\u001b[0;34m\u001b[0m\u001b[0m\n\u001b[0m\u001b[1;32m     97\u001b[0m       \u001b[0;32mcontinue\u001b[0m\u001b[0;34m\u001b[0m\u001b[0;34m\u001b[0m\u001b[0m\n\u001b[1;32m     98\u001b[0m     if (\n",
            "\u001b[0;31mKeyboardInterrupt\u001b[0m: "
          ]
        }
      ]
    },
    {
      "cell_type": "code",
      "source": [
        "train_dataset = tf.data.Dataset.from_generator(\n",
        "    lambda: preprocessed_image_generator('rokas_train_preprocessed', batch_size=BATCH_SIZE),\n",
        "    output_types=(tf.float32, tf.float32),\n",
        "    output_shapes=((None, input_shape[0], input_shape[1], input_shape[2]), (None, 5))\n",
        ")\n",
        "validation_dataset = tf.data.Dataset.from_generator(\n",
        "    lambda: preprocessed_image_generator('rokas_validate_preprocessed', batch_size=BATCH_SIZE),\n",
        "    output_types=(tf.float32, tf.float32),\n",
        "    output_shapes=((None, input_shape[0], input_shape[1], input_shape[2]), (None, 5))\n",
        ")\n"
      ],
      "metadata": {
        "id": "LtrPib8kH3JQ"
      },
      "execution_count": 20,
      "outputs": []
    },
    {
      "cell_type": "code",
      "source": [
        "# model\n",
        "model = create_model(input_shape)\n",
        "\n",
        "# train\n",
        "history = model.fit(train_dataset,\n",
        "                    epochs=EPOCHS,\n",
        "                    steps_per_epoch=steps_per_epoch,\n",
        "                    validation_data=validation_dataset,\n",
        "                    validation_steps=validation_steps)\n",
        "\n",
        "# plot the training history\n",
        "if 'loss' in history.history:\n",
        "    plt.plot(history.history['loss'], label='train loss')\n",
        "if 'accuracy' in history.history:\n",
        "    plt.plot(history.history['accuracy'], label='train accuracy')\n",
        "if 'val_loss' in history.history:\n",
        "    plt.plot(history.history['val_loss'], label='val loss')\n",
        "if 'val_f1_score' in history.history:\n",
        "    plt.plot(history.history['val_f1_score'], label='val F1 Score')\n",
        "\n",
        "plt.title('Training History')\n",
        "plt.ylabel('Value')\n",
        "plt.xlabel('Epoch')\n",
        "plt.legend()\n",
        "plt.show()"
      ],
      "metadata": {
        "colab": {
          "base_uri": "https://localhost:8080/",
          "height": 508
        },
        "id": "4LbjK-cLH6BX",
        "outputId": "4fcf9dfd-8e78-4eeb-f860-674372660882"
      },
      "execution_count": 31,
      "outputs": [
        {
          "output_type": "stream",
          "name": "stdout",
          "text": [
            "184716\n",
            "100/100 [==============================] - 99s 915ms/step - loss: 33.0331 - accuracy: 0.2031 - f1_score: 0.1500 - val_loss: 1.6114 - val_accuracy: 0.1813 - val_f1_score: 0.0614\n"
          ]
        },
        {
          "output_type": "display_data",
          "data": {
            "text/plain": [
              "<Figure size 640x480 with 1 Axes>"
            ],
            "image/png": "[encoded data removed]"
          },
          "metadata": {}
        }
      ]
    },
    {
      "cell_type": "code",
      "source": [
        "# test the model using video interface aftert training\n",
        "video_interface(model, image_size)"
      ],
      "metadata": {
        "colab": {
          "base_uri": "https://localhost:8080/",
          "height": 701
        },
        "id": "156hl8PEVrSL",
        "outputId": "c49d3557-314b-4117-abbf-cf9424402f14"
      },
      "execution_count": 32,
      "outputs": [
        {
          "output_type": "display_data",
          "data": {
            "text/plain": [
              "<Figure size 640x480 with 1 Axes>"
            ],
            "image/png": "[encoded data removed]"
          },
          "metadata": {}
        },
        {
          "output_type": "error",
          "ename": "KeyboardInterrupt",
          "evalue": "",
          "traceback": [
            "\u001b[0;31m---------------------------------------------------------------------------\u001b[0m",
            "\u001b[0;31mKeyboardInterrupt\u001b[0m                         Traceback (most recent call last)",
            "\u001b[0;32m<ipython-input-32-5856d1916fb4>\u001b[0m in \u001b[0;36m<cell line: 2>\u001b[0;34m()\u001b[0m\n\u001b[1;32m      1\u001b[0m \u001b[0;31m# test the model using video interface aftert training\u001b[0m\u001b[0;34m\u001b[0m\u001b[0;34m\u001b[0m\u001b[0m\n\u001b[0;32m----> 2\u001b[0;31m \u001b[0mvideo_interface\u001b[0m\u001b[0;34m(\u001b[0m\u001b[0mmodel\u001b[0m\u001b[0;34m,\u001b[0m \u001b[0mimage_size\u001b[0m\u001b[0;34m)\u001b[0m\u001b[0;34m\u001b[0m\u001b[0;34m\u001b[0m\u001b[0m\n\u001b[0m",
            "\u001b[0;32m<ipython-input-25-4aea43b8746d>\u001b[0m in \u001b[0;36mvideo_interface\u001b[0;34m(model, image_size)\u001b[0m\n\u001b[1;32m     44\u001b[0m         \u001b[0;32mwhile\u001b[0m \u001b[0;32mTrue\u001b[0m\u001b[0;34m:\u001b[0m\u001b[0;34m\u001b[0m\u001b[0;34m\u001b[0m\u001b[0m\n\u001b[1;32m     45\u001b[0m             \u001b[0;31m# read frame from the camera\u001b[0m\u001b[0;34m\u001b[0m\u001b[0;34m\u001b[0m\u001b[0m\n\u001b[0;32m---> 46\u001b[0;31m             \u001b[0mret\u001b[0m\u001b[0;34m,\u001b[0m \u001b[0mframe\u001b[0m \u001b[0;34m=\u001b[0m \u001b[0mcap\u001b[0m\u001b[0;34m.\u001b[0m\u001b[0mread\u001b[0m\u001b[0;34m(\u001b[0m\u001b[0;34m)\u001b[0m\u001b[0;34m\u001b[0m\u001b[0;34m\u001b[0m\u001b[0m\n\u001b[0m\u001b[1;32m     47\u001b[0m \u001b[0;34m\u001b[0m\u001b[0m\n\u001b[1;32m     48\u001b[0m             \u001b[0;32mif\u001b[0m \u001b[0;32mnot\u001b[0m \u001b[0mret\u001b[0m\u001b[0;34m:\u001b[0m\u001b[0;34m\u001b[0m\u001b[0;34m\u001b[0m\u001b[0m\n",
            "\u001b[0;31mKeyboardInterrupt\u001b[0m: "
          ]
        }
      ]
    }
  ]
}